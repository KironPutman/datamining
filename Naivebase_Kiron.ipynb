{
 "cells": [
  {
   "cell_type": "code",
   "execution_count": 1,
   "metadata": {},
   "outputs": [
    {
     "name": "stdout",
     "output_type": "stream",
     "text": [
      "0.9883408071748879\n",
      "Accuracy: 0.99\n"
     ]
    }
   ],
   "source": [
    "from sklearn.naive_bayes import BernoulliNB\n",
    "from sklearn.feature_extraction.text import CountVectorizer #maakt van de string de vector\n",
    "from sklearn.model_selection import train_test_split\n",
    "from sklearn.metrics import accuracy_score #vergelijkt de waardes van elkaar hoeveel er gelijk zijn.\n",
    "import pandas as pd\n",
    "\n",
    "\n",
    "File = \"spam.csv\"\n",
    "#standard enconding delivered an error, so using differend encoding\n",
    "df = pd.read_csv(File, encoding= 'ISO-8859-1')\n",
    "\n",
    "df.drop(df.columns[df.columns.str.contains('unnamed',case = False)],axis = 1, inplace = True) #dropt alle collomen die strings bevaten met in dit geval 'unnamed' in de colom naam\n",
    "\n",
    "texts = df['v2']\n",
    "y = df['v1']\n",
    "#vector maakt in dit geval voor de code taal bruikbare data. dus in dit geval van string naar een vector\n",
    "vector = CountVectorizer(binary=True)\n",
    "X = vector.fit_transform(texts)\n",
    "\n",
    "X_train, X_test, y_train, y_test = train_test_split(X, y, test_size=0.2, random_state=11)\n",
    "\n",
    "BNB = BernoulliNB() # is een van de naivy bases \n",
    "BNB.fit(X_train, y_train)\n",
    "\n",
    "y_pred = BNB.predict(X_test) #maakt een prediction\n",
    "\n",
    "accuracy = accuracy_score(y_test, y_pred) #berekent de accuracy\n",
    "print(accuracy)\n",
    "print(f'Accuracy: {accuracy:.2f}')\n"
   ]
  }
 ],
 "metadata": {
  "kernelspec": {
   "display_name": "base",
   "language": "python",
   "name": "python3"
  },
  "language_info": {
   "codemirror_mode": {
    "name": "ipython",
    "version": 3
   },
   "file_extension": ".py",
   "mimetype": "text/x-python",
   "name": "python",
   "nbconvert_exporter": "python",
   "pygments_lexer": "ipython3",
   "version": "3.12.4"
  }
 },
 "nbformat": 4,
 "nbformat_minor": 2
}
