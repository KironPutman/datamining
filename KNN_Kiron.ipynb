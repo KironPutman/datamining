{
 "cells": [
  {
   "cell_type": "code",
   "execution_count": 1,
   "metadata": {},
   "outputs": [
    {
     "name": "stdout",
     "output_type": "stream",
     "text": [
      "Accuracy: 98.2%\n"
     ]
    }
   ],
   "source": [
    "import pandas as pd\n",
    "from sklearn.neighbors import KNeighborsClassifier #de daadwerkelijke KNN functie\n",
    "from sklearn.model_selection import train_test_split \n",
    "#is een functie waar je data split in test en train. je hebt een x en y waarde. die geef je in, daarna defineer je de grote van je test size. en dan de random state. hij geeft terug x train en test en y train en test.\n",
    "from sklearn.metrics import accuracy_score #weegt de uitkomst van de test met de prediction\n",
    "from sklearn.preprocessing import LabelEncoder #  It is used to convert categorical data (text labels) into numerical values (integer labels). This is helpful when you're working with machine learning models that cannot process non-numeric data directly.\n",
    "from sklearn.preprocessing import StandardScaler # normaliseert je data dat het gemiddelde 0 is en je standaards deviatie altijd 1 is. aka normaal verdeling\n",
    "from sklearn.preprocessing import MinMaxScaler # zorgt dat al jou data tussen 0 en 1 is.\n",
    "\n",
    "#import data\n",
    "url = \"https://raw.githubusercontent.com/businessdatasolutions/courses/main/data%20mining/gitbook/datasets/breastcancer.csv\"\n",
    "df = pd.read_csv(url)\n",
    "#\n",
    "#transform M and D into labels\n",
    "label_encoder = LabelEncoder()\n",
    "df['diagnosis'] = label_encoder.fit_transform(df['diagnosis']) #fit transform kijkt met fit naar de data en wat er mogelijk is en transform doet daadwerkelijk dat wat met de data kan.\n",
    "\n",
    "\n",
    "# make X and y (x = numeric data, y = the outcome)\n",
    "X = df.drop(columns = ['diagnosis']) # pakt de hele tabel - diagnosis\n",
    "y = df['diagnosis'] # de hele tabel\n",
    "\n",
    "#split data into test and train\n",
    "X_train, X_test, y_train, y_test = train_test_split(X, y, test_size=0.2, random_state=11)\n",
    "\n",
    "#Normilize the data via min max (Makes al the data between 0 and 1)\n",
    "scaler = MinMaxScaler()\n",
    "X_trained_norm = scaler.fit_transform(X_train)\n",
    "X_test_scaled = scaler.transform(X_test)\n",
    "\n",
    "#run knn on data\n",
    "knn = KNeighborsClassifier(n_neighbors=9, algorithm='ball_tree')\n",
    "#fit data (create data line)\n",
    "knn.fit(X_trained_norm, y_train)\n",
    "\n",
    "#measure accuracy\n",
    "y_pred = knn.predict(X_test_scaled)\n",
    "acc = accuracy_score(y_test, y_pred)\n",
    "\n",
    "#print results\n",
    "print(f\"Accuracy: {acc * 100:.1f}%\")"
   ]
  }
 ],
 "metadata": {
  "kernelspec": {
   "display_name": "base",
   "language": "python",
   "name": "python3"
  },
  "language_info": {
   "codemirror_mode": {
    "name": "ipython",
    "version": 3
   },
   "file_extension": ".py",
   "mimetype": "text/x-python",
   "name": "python",
   "nbconvert_exporter": "python",
   "pygments_lexer": "ipython3",
   "version": "3.12.4"
  }
 },
 "nbformat": 4,
 "nbformat_minor": 2
}
