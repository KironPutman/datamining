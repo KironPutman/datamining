{
 "cells": [
  {
   "cell_type": "code",
   "execution_count": 2,
   "metadata": {},
   "outputs": [
    {
     "name": "stdout",
     "output_type": "stream",
     "text": [
      "Accuracy: 0.98\n"
     ]
    }
   ],
   "source": [
    "import pandas as pd\n",
    "from sklearn.ensemble import RandomForestClassifier #importeert de rfc functie\n",
    "from sklearn.metrics import accuracy_score #vergelijkt de waardes van elkaar hoeveel er gelijk zijn.\n",
    "from sklearn.feature_extraction.text import CountVectorizer #maakt van de string de vector\n",
    "from sklearn.model_selection import train_test_split\n",
    "\n",
    "# Load the data\n",
    "File = \"spam.csv\"\n",
    "df = pd.read_csv(File, encoding='ISO-8859-1')\n",
    "\n",
    "# Remove any columns with 'unnamed' in the column name\n",
    "df.drop(df.columns[df.columns.str.contains('unnamed', case=False)], axis=1, inplace=True)\n",
    "\n",
    "# Separate features and labels\n",
    "texts = df['v2']\n",
    "y = df['v1']\n",
    "\n",
    "# Convert text to vectors\n",
    "vector = CountVectorizer(binary=True)\n",
    "X = vector.fit_transform(texts)\n",
    "\n",
    "# Split data into training and test sets\n",
    "X_train, X_test, y_train, y_test = train_test_split(X, y, test_size=0.2, random_state=11)\n",
    "\n",
    "# Initialize the Random Forest Classifier\n",
    "rfc = RandomForestClassifier(n_estimators=100, max_depth=3 random_state=11) # bepaalt het aantal decision trees en de random state\n",
    "\n",
    "# Train the classifier\n",
    "rfc.fit(X_train, y_train) #trained de data\n",
    "\n",
    "# Predict on the test set\n",
    "y_pred = rfc.predict(X_test) #geeft een prediction\n",
    "\n",
    "# Calculate the accuracy\n",
    "accuracy = accuracy_score(y_test, y_pred) #berekent de accuraatheid\n",
    "print(f'Accuracy: {accuracy:.2f}')\n"
   ]
  }
 ],
 "metadata": {
  "kernelspec": {
   "display_name": "base",
   "language": "python",
   "name": "python3"
  },
  "language_info": {
   "codemirror_mode": {
    "name": "ipython",
    "version": 3
   },
   "file_extension": ".py",
   "mimetype": "text/x-python",
   "name": "python",
   "nbconvert_exporter": "python",
   "pygments_lexer": "ipython3",
   "version": "3.12.4"
  }
 },
 "nbformat": 4,
 "nbformat_minor": 2
}
